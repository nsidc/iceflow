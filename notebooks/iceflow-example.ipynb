{
 "cells": [
  {
   "cell_type": "markdown",
   "id": "7174387c-05aa-4f8f-b3bd-902d4f635d9b",
   "metadata": {},
   "source": [
    "# NSIDC Iceflow example\n",
    "\n",
    "This notebook shows an example of how to use the `nsidc-iceflow` Python library to do ITRF transformations with real data. We recommend starting with the [corrections.ipynb](https://github.com/nsidc/NSIDC-Data-Tutorials/blob/main/notebooks/iceflow/corrections.ipynb) notebook to learn more about ITRF transformations and why they matter.\n",
    "## Finding, downloading, and reading data\n",
    "\n",
    "Lets assume we want to do an analysis using [IceBridge ATM L1B Qfit Elevation and Return Strength, Version 1 (ILATM1B)](https://nsidc.org/data/ilatm1b/versions/1) data near Pine Island Glacier in Antarctica.\n",
    "\n",
    "Finding, downloading, and reading ILATM1B v1 data with `nsidc-iceflow` is straightforward. "
   ]
  },
  {
   "cell_type": "code",
   "execution_count": null,
   "id": "e29f9cf9",
   "metadata": {},
   "outputs": [],
   "source": [
    "from pathlib import Path\n",
    "import datetime as dt\n",
    "\n",
    "from nsidc.iceflow.api import fetch_iceflow_df\n",
    "from nsidc.iceflow.data.models import DatasetSearchParameters, BoundingBox, ATM1BDataset\n",
    "\n",
    "# Downloaded data will go here.\n",
    "data_path = Path(\"./downloaded-data/\")\n",
    "\n",
    "# Define a bounding box for our area of interest. Note that this is a very small area near Pine Island Glacier.\n",
    "# ILATM1B data can be very large, so for the purposes of this example we will focus on just a small area with a manageable amount of data.\n",
    "BBOX = BoundingBox(lower_left_lon=-103.125559, lower_left_lat=-75.180563, upper_right_lon=-102.677327, upper_right_lat=-74.798063)\n",
    "\n",
    "# Define the dataset that we want to search for. ATM1B version 1 is the only version available at the time of writing.\n",
    "atm1b_v1_dataset = ATM1BDataset(version=\"1\")\n",
    "\n",
    "# We will define a short date range in 2009 to search for data. Again, we choose this primarily to keep the amount of data manageable.\n",
    "date_range = (dt.date(2009, 11, 1), dt.date(2009, 12, 31))\n",
    "\n",
    "# Now use the `fetch_iceflow_df` function to search for and download data matching our search parameters. The output is a pandas DataFrame containing the matching data.\n",
    "iceflow_df = fetch_iceflow_df(\n",
    "    dataset_search_params=DatasetSearchParameters(\n",
    "        dataset=atm1b_v1_dataset,\n",
    "        bounding_box=BBOX,\n",
    "        temporal=date_range,\n",
    "    ),\n",
    "    output_dir=data_path,\n",
    "    output_itrf=None,\n",
    ")\n",
    "\n",
    "iceflow_df"
   ]
  },
  {
   "cell_type": "markdown",
   "id": "d94a6e32",
   "metadata": {},
   "source": [
    "For the purposes of the rest of this example, we will narrow our focus to just the latitdue, longitude, and elevation, and the ITRF data"
   ]
  },
  {
   "cell_type": "code",
   "execution_count": null,
   "id": "99e03fbd",
   "metadata": {},
   "outputs": [],
   "source": [
    "iceflow_df = iceflow_df[[\"latitude\", \"longitude\", \"elevation\", \"ITRF\"]]\n",
    "iceflow_df"
   ]
  },
  {
   "cell_type": "markdown",
   "id": "ceb7fdc7",
   "metadata": {},
   "source": [
    "## ITRF transformations\n",
    "\n",
    "Lets say we have other data that are in ITRF2014, and we want to compare the ILATM1B v1 data we just fetched to it. `nsidc-iceflow` provides a `transform_itrf` function that allows the user to transform latitude, longitude, and elevation data from an `nsidc-iceflow` dataframe into a target ITRF."
   ]
  },
  {
   "cell_type": "code",
   "execution_count": null,
   "id": "6a0cd1e6",
   "metadata": {},
   "outputs": [],
   "source": [
    "from nsidc.iceflow.itrf.converter import transform_itrf\n",
    "\n",
    "itrf2014_df = transform_itrf(data=iceflow_df, target_itrf=\"ITRF2014\")\n",
    "itrf2014_df"
   ]
  },
  {
   "cell_type": "markdown",
   "id": "27ecc8da",
   "metadata": {},
   "source": [
    "Let's take a look at the differences between the original data (ITRF2005) and the data that has been transformed to ITRF2014."
   ]
  },
  {
   "cell_type": "code",
   "execution_count": null,
   "id": "b64693c0",
   "metadata": {},
   "outputs": [],
   "source": [
    "for variable in [\"latitude\", \"longitude\", \"elevation\"]:\n",
    "    print(f\"Max difference in {variable}: {abs(itrf2014_df[variable] - iceflow_df[variable]).max()}\")"
   ]
  },
  {
   "cell_type": "markdown",
   "id": "3bc41f8f",
   "metadata": {},
   "source": [
    "We can see here that the differences are very small! The largest elevation difference is 0.007 - 7mm!"
   ]
  },
  {
   "cell_type": "markdown",
   "id": "10c48a2e",
   "metadata": {},
   "source": [
    "## Propagating data to a new epoch\n",
    "\n",
    "Now lets assume we need to propagate the data to a target epoch of 2019.7, which corresponds to September 13, 2019. This accounts for continental plate motion.\n",
    "\n",
    "The `transform_itrf` function optionally takes a `target_epoch` in order to do this transformation, which we'll use the original data as input"
   ]
  },
  {
   "cell_type": "code",
   "execution_count": null,
   "id": "14e431b0",
   "metadata": {},
   "outputs": [],
   "source": [
    "itrf2014_epoch_2019_7_df = transform_itrf(\n",
    "    data=iceflow_df,\n",
    "    target_itrf=\"ITRF2014\",\n",
    "    target_epoch=\"2019.7\",\n",
    ")\n",
    "\n",
    "itrf2014_epoch_2019_7_df"
   ]
  },
  {
   "cell_type": "markdown",
   "id": "e11a8a1c",
   "metadata": {},
   "source": [
    "The maximum difference is still small:"
   ]
  },
  {
   "cell_type": "code",
   "execution_count": null,
   "id": "8c562732",
   "metadata": {},
   "outputs": [],
   "source": [
    "for variable in [\"latitude\", \"longitude\", \"elevation\"]:\n",
    "    print(f\"Max difference in {variable}: {abs(itrf2014_epoch_2019_7_df[variable] - iceflow_df[variable]).max()}\")"
   ]
  },
  {
   "cell_type": "markdown",
   "id": "5395451d",
   "metadata": {},
   "source": [
    "## Visualizing the differences\n",
    "\n",
    "To visualize the differences, which are very small, we need to zoom in on just a small subset of points."
   ]
  },
  {
   "cell_type": "code",
   "execution_count": null,
   "id": "5bafd254",
   "metadata": {},
   "outputs": [],
   "source": [
    "filter_condition = (iceflow_df.reset_index().index > 50) & ( iceflow_df.reset_index().index < 60)\n",
    "sampled_iceflow_df = iceflow_df[filter_condition]\n",
    "sampled_itrf2014_df = itrf2014_df[filter_condition]\n",
    "sampled_itrf2014_epoch_2019_7_df = itrf2014_epoch_2019_7_df[filter_condition]"
   ]
  },
  {
   "cell_type": "code",
   "execution_count": null,
   "id": "0ffce6d2",
   "metadata": {},
   "outputs": [],
   "source": [
    "import matplotlib.pyplot as plt\n",
    "# note: use `inline` to save the resulting image as an embedded png (nice for sharing). \\\n",
    "# Use `widget` to obtain interactive controls to explore the data in depth!\n",
    "%matplotlib inline\n",
    "# %matplotlib widget\n",
    "\n",
    "\n",
    "fig = plt.figure(figsize=(10, 8))\n",
    "ax = fig.add_subplot(111, projection=\"3d\")\n",
    "ax.scatter(\n",
    "    sampled_iceflow_df.longitude.values,\n",
    "    sampled_iceflow_df.latitude.values,\n",
    "    sampled_iceflow_df.elevation.values,\n",
    "    color=\"blue\",\n",
    "    marker=\"o\",\n",
    "    label=\"original\",\n",
    ")\n",
    "\n",
    "ax.scatter(\n",
    "    sampled_itrf2014_df.longitude.values,\n",
    "    sampled_itrf2014_df.latitude.values,\n",
    "    sampled_itrf2014_df.elevation.values,\n",
    "    color=\"green\",\n",
    "    marker=\"x\",\n",
    "    label=\"ITRF2014\",\n",
    ")\n",
    "\n",
    "ax.scatter(\n",
    "    sampled_itrf2014_epoch_2019_7_df.longitude.values,\n",
    "    sampled_itrf2014_epoch_2019_7_df.latitude.values,\n",
    "    sampled_itrf2014_epoch_2019_7_df.elevation.values,\n",
    "    color=\"red\",\n",
    "    marker=\"v\",\n",
    "    label=\"ITRF2014 epoch 2019.7\",\n",
    ")\n",
    "\n",
    "ax.set_xlabel(\"longitude (degrees)\", labelpad=10)\n",
    "ax.set_ylabel(\"latitude (degrees)\", labelpad=10)\n",
    "ax.set_zlabel(\"elevation (m)\", labelpad=10)\n",
    "plt.legend(loc=\"upper left\")\n",
    "plt.show()"
   ]
  }
 ],
 "metadata": {
  "kernelspec": {
   "display_name": "Python 3 (ipykernel)",
   "language": "python",
   "name": "python3"
  },
  "language_info": {
   "codemirror_mode": {
    "name": "ipython",
    "version": 3
   },
   "file_extension": ".py",
   "mimetype": "text/x-python",
   "name": "python",
   "nbconvert_exporter": "python",
   "pygments_lexer": "ipython3",
   "version": "3.12.5"
  }
 },
 "nbformat": 4,
 "nbformat_minor": 5
}
